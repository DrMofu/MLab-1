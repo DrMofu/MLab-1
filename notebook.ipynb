{
 "cells": [
  {
   "cell_type": "markdown",
   "metadata": {},
   "source": [
    "# M小白实验室\n",
    "第一期： 玩转Labo——Labo操控电脑\n",
    "\n",
    "- Pillow 用于截屏与图形处理\n",
    "- numpy 用于科学计算\n",
    "- autopy/pywin32 用于模拟键盘鼠标"
   ]
  },
  {
   "cell_type": "markdown",
   "metadata": {},
   "source": [
    "## 1. 截屏"
   ]
  },
  {
   "cell_type": "code",
   "execution_count": 2,
   "metadata": {},
   "outputs": [],
   "source": [
    "from PIL import ImageGrab\n",
    "import numpy as np\n",
    "\n",
    "# 截取图片\n",
    "# 第一个参数 开始截图的x坐标\n",
    "# 第二个参数 开始截图的y坐标\n",
    "# 第三个参数 结束截图的x坐标\n",
    "# 第四个参数 结束截图的y坐标\n",
    "box = (160, 100, 460, 480) \n",
    "img = ImageGrab.grab(box) \n",
    "\n",
    "# 转为灰度图\n",
    "img = img.convert('L')  \n",
    "\n",
    "# 转化为array\n",
    "imgArray = np.array(img)/255"
   ]
  },
  {
   "cell_type": "code",
   "execution_count": 3,
   "metadata": {},
   "outputs": [
    {
     "data": {
      "text/plain": [
       "array([[1.        , 1.        , 1.        , ..., 1.        , 1.        ,\n",
       "        1.        ],\n",
       "       [1.        , 1.        , 1.        , ..., 1.        , 1.        ,\n",
       "        1.        ],\n",
       "       [1.        , 1.        , 1.        , ..., 1.        , 1.        ,\n",
       "        1.        ],\n",
       "       ...,\n",
       "       [1.        , 1.        , 1.        , ..., 0.96862745, 0.96862745,\n",
       "        0.96862745],\n",
       "       [1.        , 1.        , 1.        , ..., 0.96862745, 0.96862745,\n",
       "        0.96862745],\n",
       "       [1.        , 1.        , 1.        , ..., 0.96862745, 0.96862745,\n",
       "        0.96862745]])"
      ]
     },
     "execution_count": 3,
     "metadata": {},
     "output_type": "execute_result"
    }
   ],
   "source": [
    "# 查看图片的数值 数值越大越亮\n",
    "imgArray"
   ]
  },
  {
   "cell_type": "code",
   "execution_count": 4,
   "metadata": {},
   "outputs": [],
   "source": [
    "# 旧方法 已经无用\n",
    "# 本代码块用于获取当前目录下所有jpg图片名称\n",
    "# 并载入图片\n",
    "\n",
    "# import os\n",
    "\n",
    "# path = os.listdir(os.getcwd())\n",
    "\n",
    "# jpgList = []\n",
    "# for p in path:\n",
    "#     if p.split('.')[-1]=='jpg':\n",
    "#         jpgList.append(p)\n",
    "# jpgList\n",
    "\n",
    "# from skimage import io\n",
    "\n",
    "# # 这里根据获取图片方式而异\n",
    "# # 笔者使用bandicam截图软件，默认截图名字有时间戳\n",
    "# # 导入图片时自动根据时间排序\n",
    "# # 因此最后一个必定为最新的截图\n",
    "# # 只读取最后一个图片即可\n",
    "# jpgURL = jpgList[-1]  \n",
    "\n",
    "# # 获取图片，并转为灰度图\n",
    "# img=io.imread(jpg,as_grey=True) \n",
    "# io.imshow(img)"
   ]
  },
  {
   "cell_type": "markdown",
   "metadata": {},
   "source": [
    "## 2. 获取图片中指定N个区域的明亮程度与编码"
   ]
  },
  {
   "cell_type": "code",
   "execution_count": 5,
   "metadata": {},
   "outputs": [],
   "source": [
    "imgY,imgX = imgArray.shape"
   ]
  },
  {
   "cell_type": "code",
   "execution_count": 6,
   "metadata": {},
   "outputs": [],
   "source": [
    "totalAera = 4   # 划分几个区域识别 这里设置4个  图像横向切开 4个区域纵向排列\n",
    "aera = [0]*totalAera  # 初始化区域列表"
   ]
  },
  {
   "cell_type": "code",
   "execution_count": 10,
   "metadata": {},
   "outputs": [
    {
     "name": "stdout",
     "output_type": "stream",
     "text": [
      "第1个区域是白色，亮度为0.9504624699002409\n",
      "第2个区域是白色，亮度为0.9332919160646717\n",
      "第3个区域是白色，亮度为0.9418006191950465\n",
      "第4个区域是白色，亮度为0.9539076711386308\n",
      "\n",
      "编码情况下 按下的键的编号为15\n",
      "\n",
      "非编码下 按下的键的编号为1 2 3 4\n"
     ]
    }
   ],
   "source": [
    "# 确定各个区域的明暗程度\n",
    "\n",
    "stepY = int(imgY/totalAera)\n",
    "uncodeKey = []  # 非编码\n",
    "codekey = 0     # 编码\n",
    "for i in range(totalAera):\n",
    "    aera[i] = imgArray[stepY*i:stepY*(i+1)].mean()\n",
    "    if aera[i]>0.5:\n",
    "        codekey += 2**i\n",
    "        print(\"第%s个区域是白色，亮度为%s\" % (i+1,aera[i]))\n",
    "        uncodeKey.append(str(i+1))\n",
    "    else:\n",
    "        print(\"第%s个区域是黑色，亮度为%s\" % (i+1,aera[i]))\n",
    "        \n",
    "print(\"\\n编码情况下 按下的键的编号为%s\" % codekey)\n",
    "print(\"\\n非编码下 按下的键的编号为%s\" % (\" \".join(uncodeKey)))"
   ]
  },
  {
   "cell_type": "markdown",
   "metadata": {},
   "source": [
    "## 3. 将获取的内容输入到html文件中（用于展示中间结果）"
   ]
  },
  {
   "cell_type": "code",
   "execution_count": 37,
   "metadata": {},
   "outputs": [
    {
     "name": "stdout",
     "output_type": "stream",
     "text": [
      "读取：\n",
      "<!DOCTYPE html>\n",
      "<html lang=\"zh-CN\">\n",
      "<head>\n",
      "    <meta charset=\"utf-8\" />\n",
      "    <meta http-equiv=\"refresh\" content=\"1\">\n",
      "    <meta name=\"author\" content=\"M小白\">\n",
      "    <title>【M小白实验室】 花式玩转Labo</title>\n",
      "</head>\n",
      "<body>\n",
      "    <p>按下键的值为：1</p>\n",
      "</body>\n",
      "</html>\n",
      "\n",
      "修改后：\n",
      "<!DOCTYPE html>\n",
      "<html lang=\"zh-CN\">\n",
      "<head>\n",
      "    <meta charset=\"utf-8\" />\n",
      "    <meta http-equiv=\"refresh\" content=\"1\">\n",
      "    <meta name=\"author\" content=\"M小白\">\n",
      "    <title>【M小白实验室】 花式玩转Labo</title>\n",
      "</head>\n",
      "<body>\n",
      "    <p>按下键的值为：15</p>\n",
      "</body>\n",
      "</html>\n"
     ]
    }
   ],
   "source": [
    "with open('./index.html','r',encoding='UTF-8') as f:\n",
    "    string = f.read()\n",
    "    \n",
    "print(\"修改前：\")\n",
    "print(string)\n",
    "print(\"\\n修改后：\")\n",
    "stringNew = re.sub('<p>(.*)</p>','<p>按下键的值为：%s</p>' % codekey,string)\n",
    "print(stringNew)\n",
    "\n",
    "with open('./index.html','w',encoding='UTF-8') as f:\n",
    "    f.write(stringNew)"
   ]
  },
  {
   "cell_type": "code",
   "execution_count": 7,
   "metadata": {},
   "outputs": [],
   "source": [
    "# 旧方法 已经无用\n",
    "# from bs4 import BeautifulSoup\n",
    "# soup = BeautifulSoup(open(\"./index.html\",'r',encoding='UTF-8'), 'html.parser')\n",
    "# soup.select(\"p\")"
   ]
  },
  {
   "cell_type": "markdown",
   "metadata": {},
   "source": [
    "## 4.键盘鼠标模拟操作"
   ]
  },
  {
   "attachments": {
    "image.png": {
     "image/png": "[encoded data removed]"
    }
   },
   "cell_type": "markdown",
   "metadata": {},
   "source": [
    "- [Autopy官方文档](https://www.autopy.org/documentation/api-reference/)\n",
    "autopy有点坑，笔者目前不知道其键盘模拟如何实现\n",
    "\n",
    "- [安装pywin32方法](https://jingyan.baidu.com/article/bad08e1ed173d409c85121f8.html)\n",
    "直接用pip安装pywin32的时候各位可能会出现报错\n",
    "\n",
    "- [使用pywin32实现按键模拟](https://blog.csdn.net/smallsmallmouse/article/details/78689675)\n",
    "![image.png](attachment:image.png)"
   ]
  },
  {
   "cell_type": "code",
   "execution_count": 11,
   "metadata": {},
   "outputs": [],
   "source": [
    "import autopy\n",
    "import win32api\n",
    "import win32con"
   ]
  },
  {
   "cell_type": "code",
   "execution_count": 12,
   "metadata": {},
   "outputs": [],
   "source": [
    "autopy.mouse.move(100, 100) # 移动鼠标\n",
    "autopy.mouse.smooth_move(300, 300) # 平滑移动鼠标（上面那个是瞬间的）\n",
    " \n",
    "autopy.mouse.click() # 单击\n",
    "win32api.keybd_event(65,0,0,0)  #A键位码是65"
   ]
  },
  {
   "cell_type": "code",
   "execution_count": null,
   "metadata": {},
   "outputs": [],
   "source": []
  }
 ],
 "metadata": {
  "kernelspec": {
   "display_name": "Python 3",
   "language": "python",
   "name": "python3"
  },
  "language_info": {
   "codemirror_mode": {
    "name": "ipython",
    "version": 3
   },
   "file_extension": ".py",
   "mimetype": "text/x-python",
   "name": "python",
   "nbconvert_exporter": "python",
   "pygments_lexer": "ipython3",
   "version": "3.6.4"
  }
 },
 "nbformat": 4,
 "nbformat_minor": 2
}
